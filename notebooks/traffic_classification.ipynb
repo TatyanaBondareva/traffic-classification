{
 "cells": [
  {
   "cell_type": "markdown",
   "metadata": {},
   "source": [
    "# Description\n",
    "This notebook containts 3 parts: common, train and evaluation. The common part is necessary for run. Train and evaluation parts can working separately."
   ]
  },
  {
   "cell_type": "markdown",
   "metadata": {},
   "source": [
    "# Common part\n",
    "The following code is used for both train and demo parts."
   ]
  },
  {
   "cell_type": "code",
   "execution_count": null,
   "metadata": {},
   "outputs": [],
   "source": [
    "# common imports\n",
    "import os\n",
    "import torch\n",
    "\n",
    "import numpy as np\n",
    "\n",
    "from torch import nn\n",
    "from sklearn.metrics import f1_score\n",
    "\n",
    "from tqdm import tqdm_notebook as tqdm"
   ]
  },
  {
   "cell_type": "code",
   "execution_count": null,
   "metadata": {},
   "outputs": [],
   "source": [
    "#TODO"
   ]
  },
  {
   "cell_type": "code",
   "execution_count": null,
   "metadata": {},
   "outputs": [],
   "source": [
    "# network definition\n",
    "class TrafficRNN(nn.Module):\n",
    "    def __init__(self, tokens, hidden_size=128, num_layers=1):\n",
    "        super().__init__()\n",
    "        self.hidden_size = hidden_size\n",
    "        self.num_layers = num_layers\n",
    "        \n",
    "        self.tokens = tokens\n",
    "        self.int2char = dict(enumerate(tokens))\n",
    "        self.char2int = {char: idx for idx, char in self.int2char.items()}\n",
    "        \n",
    "        self.lstm = nn.LSTM(input_size=len(tokens),\n",
    "                            hidden_size=hidden_size,\n",
    "                            num_layers=num_layers,\n",
    "                            batch_first=True)\n",
    "        self.fc = nn.Linear(hidden_size, 1)\n",
    "        self.sigmoid = nn.Sigmoid()\n",
    "        \n",
    "# TODO\n"
   ]
  },
  {
   "cell_type": "code",
   "execution_count": null,
   "metadata": {},
   "outputs": [],
   "source": [
    "def sample2one_hot(sample, size):\n",
    "    \"\"\"Convert the array of numbers to one hot vector view.\n",
    "    \n",
    "    Parameters\n",
    "    ----------\n",
    "    sample : array-like\n",
    "        Array of integers.\n",
    "    size : int\n",
    "        Maximal possible number in array.\n",
    "\n",
    "    Returns\n",
    "    -------\n",
    "    array-like\n",
    "        Array of one hot vectors.\n",
    "\n",
    "    \"\"\"\n",
    "    one_hot = np.zeros((len(sample), size), dtype=int)\n",
    "    one_hot[np.arange(len(sample)), sample] = 1\n",
    "    return one_hot"
   ]
  },
  {
   "cell_type": "markdown",
   "metadata": {},
   "source": [
    "# Training part\n",
    "The following code process the dataset [CSIC 2010](http://www.isi.csic.es/dataset/) and train a classifier based on LSTM. Best models will be saved into choiced directory with graphics of training process."
   ]
  },
  {
   "cell_type": "code",
   "execution_count": null,
   "metadata": {},
   "outputs": [],
   "source": [
    "# imports section\n",
    "import torch.optim as optim\n",
    "import torch.nn.functional as F\n",
    "\n",
    "from sklearn.utils.class_weight import compute_class_weight\n",
    "\n",
    "from datetime import datetime as dtm\n",
    "\n",
    "%matplotlib inline\n",
    "import matplotlib\n",
    "import matplotlib.pyplot as plt"
   ]
  },
  {
   "cell_type": "code",
   "execution_count": null,
   "metadata": {},
   "outputs": [],
   "source": [
    "# TODO"
   ]
  },
  {
   "cell_type": "code",
   "execution_count": null,
   "metadata": {},
   "outputs": [],
   "source": [
    "# params and constants section\n",
    "TRAIN_PART = 0.65\n",
    "EPOCHS = 12\n",
    "LSTM_HIDDEN_SIZE = 128\n",
    "LSTM_NUM_LAYERS = 1\n",
    "LR = 9e-4"
   ]
  },
  {
   "cell_type": "code",
   "execution_count": null,
   "metadata": {},
   "outputs": [],
   "source": [
    "# dataset loading\n",
    "normal_1_path = '../data/original/normal_train.txt'\n",
    "normal_2_path = '../data/original/normal_test.txt'\n",
    "abnormal_path = '../data/original/abnormal_test.txt'\n",
    "\n",
    "#TODO"
   ]
  },
  {
   "cell_type": "code",
   "execution_count": null,
   "metadata": {},
   "outputs": [],
   "source": [
    "# tokens creation\n",
    "tokens = set(''.join(normal_raw_data) + ''.join(abnormal_raw_data))\n",
    "print(len(tokens))\n",
    "tokens.add(END_TOKEN)\n",
    "print(len(tokens))\n",
    "print(tokens)"
   ]
  },
  {
   "cell_type": "code",
   "execution_count": null,
   "metadata": {},
   "outputs": [],
   "source": [
    "# dataset processing\n",
    "# create the model for getting char2int function\n",
    "model = TrafficRNN(tokens, LSTM_HIDDEN_SIZE, LSTM_NUM_LAYERS)\n",
    "model.to(DEVICE)\n",
    "\n",
    "normal_samples, abnormal_samples = [], []\n",
    "samples_as_chars = []\n",
    "start_idx = 0\n",
    "for idx, line in enumerate(normal_raw_data):\n",
    "    if line == 'Connection: close\\n':\n",
    "        if normal_raw_data[idx + 1] != '\\n':\n",
    "            sample_as_chars = ''.join(normal_raw_data[start_idx:idx + 4]) + END_TOKEN\n",
    "            start_idx = idx + 5\n",
    "        else:\n",
    "            sample_as_chars = ''.join(normal_raw_data[start_idx:idx + 1]) + END_TOKEN\n",
    "            start_idx = idx + 3\n",
    "        \n",
    "        # convert from text to nums\n",
    "        sample_as_nums = np.array([model.char2int[char] for char in sample_as_chars])\n",
    "        normal_samples.append(sample_as_nums)\n",
    "        samples_as_chars.append(sample_as_chars)\n",
    "\n",
    "#TODO"
   ]
  },
  {
   "cell_type": "code",
   "execution_count": null,
   "metadata": {},
   "outputs": [],
   "source": [
    "# dataset resplitting\n",
    "samples = normal_samples + abnormal_samples\n",
    "labels = np.hstack([np.zeros(len(normal_samples)), np.ones(len(abnormal_samples))])\n",
    "\n",
    "train_indices = []\n",
    "test_indices = []\n",
    "for i in np.arange(len(samples)):\n",
    "    if np.random.uniform() < TRAIN_PART:\n",
    "        train_indices.append(i)\n",
    "    else:\n",
    "        test_indices.append(i)\n",
    "\n",
    "#TODO"
   ]
  },
  {
   "cell_type": "code",
   "execution_count": null,
   "metadata": {},
   "outputs": [],
   "source": [
    "# saving resplitted datasets\n",
    "for name, indices in zip(['train', 'test'],\n",
    "                         [train_indices, test_indices]):\n",
    "    with open(os.path.join(SAVE_DATASET_TO, name + '_samples.txt'), 'w') as f:\n",
    "        for idx in indices:\n",
    "            print(samples_as_chars[idx], file=f, end='\\n\\n')\n",
    "    with open(os.path.join(SAVE_DATASET_TO, name + '_labels.txt'), 'w') as f:\n",
    "        for idx in indices:\n",
    "            print(labels[idx], file=f)"
   ]
  },
  {
   "cell_type": "code",
   "execution_count": null,
   "metadata": {},
   "outputs": [],
   "source": [
    "# additional tools initialization\n",
    "criterion = nn.BCELoss()\n",
    "optimizer = optim.Adam(model.parameters(), lr=LR)\n",
    "\n",
    "cw = compute_class_weight(\n",
    "    'balanced', np.array([0, 1]), labels[train_indices]\n",
    ").astype(np.float32)\n",
    "class_weights = torch.tensor(cw).to(DEVICE)"
   ]
  },
  {
   "cell_type": "code",
   "execution_count": null,
   "metadata": {},
   "outputs": [],
   "source": [
    "def plot_metric(metric_name, train_history, test_history, save_to):\n",
    "    \"\"\"Plot and save a graphic of a given metric.\"\"\"\n",
    "    plt.grid(True)\n",
    "    plt.xlabel('Epochs')\n",
    "    plt.ylabel(metric_name + ' score')\n",
    "    plt.title(metric_name + ' score dynamic')\n",
    "    plt.plot(np.arange(len(train_history)), train_history, color='orange')\n",
    "    plt.plot(np.arange(len(test_history)), test_history, color='blue')\n",
    "    plt.legend(('Train', 'Test'))\n",
    "    plt.savefig(os.path.join(save_to, metric_name.lower() + '.jpg'), dpi=350)\n",
    "    plt.clf()"
   ]
  },
  {
   "cell_type": "code",
   "execution_count": null,
   "metadata": {
    "scrolled": false
   },
   "outputs": [],
   "source": [
    "# train loop\n",
    "best_train_loss, best_test_loss = np.inf, np.inf\n",
    "best_train_acc, best_test_acc = 0.0, 0.0\n",
    "best_train_f1, best_test_f1 = 0.0, 0.0\n",
    "train_losses, test_losses = [], []\n",
    "train_accs, test_accs = [], []\n",
    "train_f1, test_f1 = [], []\n",
    "test_labels = labels[test_indices]\n",
    "\n",
    "for ep in np.arange(EPOCHS):\n",
    "    #\n",
    "    # train\n",
    "    #\n",
    "    print('EPOCH #', ep)\n",
    "    np.random.shuffle(train_indices) #  shuffle only train indices\n",
    "    model.train()\n",
    "    running_loss = 0.0\n",
    "    correct = 0\n",
    "    pd_labels = []\n",
    "    for i in tqdm(train_indices):\n",
    "        optimizer.zero_grad()\n",
    "\n",
    "        sample = (sample2one_hot(samples[i], len(tokens))[np.newaxis, :]).astype(np.float32)\n",
    "        sample = torch.from_numpy(sample).to(DEVICE)\n",
    "        outputs = model(sample)\n",
    "        \n",
    "        predict = 1 if outputs.cpu().detach().numpy()[0] > TH else 0\n",
    "        label = np.array([labels[i]])\n",
    "        if (predict == label):\n",
    "            correct += 1\n",
    "        pd_labels.append(predict)\n",
    "\n",
    "        label = torch.from_numpy(label.astype(np.float32)).to(DEVICE)\n",
    "        loss = criterion(outputs, label)\n",
    "        weight = class_weights[label.long()].view_as(label)\n",
    "        weighted_loss = loss * weight\n",
    "        running_loss += weighted_loss.item()\n",
    "        \n",
    "        weighted_loss.backward()\n",
    "        optimizer.step()\n",
    "    train_losses.append(running_loss / len(train_indices))\n",
    "    train_accs.append(correct / len(train_indices))\n",
    "    train_f1.append(f1_score(labels[train_indices], pd_labels))\n",
    "    \n",
    "    if train_losses[-1] < best_train_loss:\n",
    "        best_train_loss = train_losses[-1]\n",
    "    \n",
    "    if train_accs[-1] > best_train_acc:\n",
    "        best_train_acc = train_accs[-1]\n",
    "    \n",
    "    if train_f1[-1] > best_train_f1:\n",
    "        best_train_f1 = train_f1[-1]\n",
    "    \n",
    "    print('Train loss: {}, (best: {})'.format(train_losses[-1], best_train_loss))\n",
    "    print('Train acc: {}, (best: {})'.format(train_accs[-1], best_train_acc))\n",
    "    print('Train F1: {}, (best: {})'.format(train_f1[-1], best_train_f1))\n",
    "\n",
    "    #\n",
    "    # test\n",
    "    #\n",
    "    with torch.no_grad():\n",
    "        model.eval()\n",
    "        running_loss = 0.0\n",
    "        correct = 0\n",
    "        pd_labels = []\n",
    "        for i in tqdm(test_indices):\n",
    "            sample = (sample2one_hot(samples[i], len(tokens))[np.newaxis, :]).astype(np.float32)\n",
    "            sample = torch.from_numpy(sample).to(DEVICE)\n",
    "            outputs = model(sample)\n",
    "\n",
    "            predict = 1 if outputs.cpu().detach().numpy()[0] > TH else 0\n",
    "            label = np.array([labels[i]])\n",
    "            if (predict == label):\n",
    "                correct += 1\n",
    "            pd_labels.append(predict)\n",
    "\n",
    "            label = torch.from_numpy(label.astype(np.float32)).to(DEVICE)\n",
    "            loss = criterion(outputs, label)\n",
    "            weight = class_weights[label.long()].view_as(label)\n",
    "            weighted_loss = loss * weight\n",
    "            running_loss += weighted_loss.item()\n",
    "    \n",
    "    test_losses.append(running_loss / len(test_indices))\n",
    "    test_accs.append(correct / len(test_indices))\n",
    "    test_f1.append(f1_score(test_labels, pd_labels))\n",
    "    \n",
    "#TODO\n",
    "    \n",
    "    # plotting\n",
    "    plot_metric('Loss', train_losses, test_losses, SAVE_TO)\n",
    "    plot_metric('Accuracy', train_accs, test_accs, SAVE_TO)\n",
    "    plot_metric('F1', train_f1, test_f1, SAVE_TO)"
   ]
  },
  {
   "cell_type": "markdown",
   "metadata": {},
   "source": [
    "# Evaluation part\n",
    "The following code evaluates a trained model and demonstrates how to use a trained by the code above models."
   ]
  },
  {
   "cell_type": "code",
   "execution_count": null,
   "metadata": {},
   "outputs": [],
   "source": [
    "# params section\n",
    "MODEL_PATH = '../trained_models/model.pth'\n",
    "SAMPLES_PATH = '../data/resplitted/test_samples.txt'\n",
    "LABELS_PATH = '../data/resplitted/test_labels.txt'"
   ]
  },
  {
   "cell_type": "code",
   "execution_count": null,
   "metadata": {},
   "outputs": [],
   "source": [
    "# model loading\n",
    "cp = torch.load(MODEL_PATH)\n",
    "model = TrafficRNN(cp['tokens'], hidden_size=cp['hidden_size'], num_layers=cp['num_layers'])\n",
    "model.load_state_dict(cp['model_state_dict'])\n",
    "model.to(DEVICE)\n",
    "model.eval()\n",
    "\n",
    "print('Checkpoint epoch:', cp['epoch'])\n",
    "print('Checkpoint accuracy:', cp['accuracy'])\n",
    "print('Checkpoint F1:', cp['f1'])"
   ]
  },
  {
   "cell_type": "code",
   "execution_count": null,
   "metadata": {},
   "outputs": [],
   "source": []
  },
  {
   "cell_type": "code",
   "execution_count": null,
   "metadata": {},
   "outputs": [],
   "source": []
  },
  {
   "cell_type": "code",
   "execution_count": null,
   "metadata": {},
   "outputs": [],
   "source": []
  }
 ],
 "metadata": {
  "kernelspec": {
   "display_name": "Python 3",
   "language": "python",
   "name": "python3"
  },
  "language_info": {
   "codemirror_mode": {
    "name": "ipython",
    "version": 3
   },
   "file_extension": ".py",
   "mimetype": "text/x-python",
   "name": "python",
   "nbconvert_exporter": "python",
   "pygments_lexer": "ipython3",
   "version": "3.7.3"
  }
 },
 "nbformat": 4,
 "nbformat_minor": 2
}